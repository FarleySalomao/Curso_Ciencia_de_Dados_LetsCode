{
 "cells": [
  {
   "cell_type": "markdown",
   "metadata": {},
   "source": [
    "# Exercícios\n",
    "\n",
    "O programa abaixo apresenta alguns erros de execução. Sem alterar as estruturas de dados originais (lista e dicionário), faça um tratamento adequado dos erros para exibir as médias corretas de cada aluno ou mensagens de erro significativas para o usuário em português, sem permitir que o programa seja interrompido antes de finalizar sua execução.\n",
    "\n",
    "```python\n",
    "alunos = ['John', 'Paul', 'George', 'Ringo', 'Brian', 'Pete']\n",
    "\n",
    "notas = {\n",
    "    'John':[7.5, 9.0, 8.25, 8.0],\n",
    "    'Paul':[9.0, 8.5, '10.0', 8.5],\n",
    "    'George':[6.0, '7.0', 8.0, 9],\n",
    "    'Ringo':[4.5, 4.0, 6.0, 7.0],\n",
    "    'Pete':[]\n",
    "}\n",
    "\n",
    "for aluno in alunos:\n",
    "    media = sum(notas[aluno])/len(notas[aluno])\n",
    "    print(f'{aluno}:\\t{media}')\n",
    "```"
   ]
  },
  {
   "cell_type": "code",
   "execution_count": 9,
   "metadata": {},
   "outputs": [
    {
     "name": "stdout",
     "output_type": "stream",
     "text": [
      "John:\t8.1875\n",
      "Paul:\t9.0\n",
      "George:\t7.5\n",
      "Ringo:\t5.875\n",
      "O Brian não foi encontrado no sistema\n",
      "As notas do aluno Pete não foram lançadas no sistema\n"
     ]
    }
   ],
   "source": [
    "alunos = ['John', 'Paul', 'George', 'Ringo', 'Brian', 'Pete']\n",
    "\n",
    "notas = {\n",
    "    'John':[7.5, 9.0, 8.25, 8.0],\n",
    "    'Paul':[9.0, 8.5, '10.0', 8.5],\n",
    "    'George':[6.0, '7.0', 8.0, 9],\n",
    "    'Ringo':[4.5, 4.0, 6.0, 9.0],\n",
    "    'Pete':[]\n",
    "}\n",
    "\n",
    "for aluno in alunos:\n",
    "    try:\n",
    "        media = sum(notas[aluno])/len(notas[aluno])\n",
    "    \n",
    "    except TypeError:\n",
    "        for index, nota in enumerate(notas[aluno]):\n",
    "            if type(nota) != float:\n",
    "                notas[aluno][index] = float(notas[aluno][index])\n",
    "        media = sum(notas[aluno])/len(notas[aluno])\n",
    "\n",
    "    except KeyError:\n",
    "        print(f'O {aluno} não foi encontrado no sistema')\n",
    "        continue\n",
    "    \n",
    "    except ZeroDivisionError:\n",
    "        print(f'As notas do aluno {aluno} não foram lançadas no sistema')\n",
    "        continue\n",
    "    \n",
    "    print(f'{aluno}:\\t{media}')"
   ]
  },
  {
   "cell_type": "markdown",
   "metadata": {},
   "source": [
    "Na aula de **arquivos**, você provavelmente fez o exercício abaixo:\n",
    "\n",
    "> Faça um programa que carrega um arquivo CSV de notas (como o gerado pelo exercício anterior) e pede para o usuário digitar a nota mínima para aprovação. Ele deverá gerar um novo arquivo contendo as notas originais e 2 colunas adicionais: a média de cada aluno na primeira (com, no máximo, 2 casas decimais) e \"APR\" ou \"REP\" na segunda, indicando se a média atingiu o valor mínimo ou não.\n",
    "\n",
    "Vamos tornar nosso programa mais seguro:\n",
    "* Caso alguma nota não possa ser interpretada como float, considere seu valor como sendo zero, exiba uma mensagem de erro informando o usuário sobre o aluno e prova que contém a nota inválida e não interrompa a execução do programa.\n",
    "* Caso alguma nota seja um número válido, mas esteja fora do intervalo entre 0 e 10, considere o valor 0 para a nota, exiba uma mensagem de erro informando o usuário sobre o aluno e prova que contém a nota inválida, explique o intervalo permitido e não interrompa a execução do programa.\n",
    "* Caso não seja possível criar o arquivo para escrever o resultado, exiba uma mensagem em português para o usuário informando o problema e imprima o resultado dos cálculos na tela.\n",
    "* Caso o arquivo original não seja encontrado, você pode deixar que o programa seja interrompido - mas exiba uma mensagem de erro significativa em português para o usuário."
   ]
  },
  {
   "cell_type": "code",
   "execution_count": 19,
   "metadata": {},
   "outputs": [
    {
     "name": "stdout",
     "output_type": "stream",
     "text": [
      "[['5', '6', '7', 'q'], ['10', '8', '7', '9'], ['10', '9', '8', '7'], ['6', '7', '5', '5']]\n",
      "['Farley', 'Daniel', 'Jaiana', 'JoÃ£o']\n",
      "A nota da prova \"4\" do aluno Farleynão foi carregada corretamente, o valor zero foi atribuído\n",
      "[[5.0, 6.0, 7.0, 0], [10.0, 8.0, 7.0, 9.0], [10.0, 9.0, 8.0, 7.0], [6.0, 7.0, 5.0, 5.0]]\n",
      "['Farley', 'Daniel', 'Jaiana', 'JoÃ£o']\n"
     ]
    },
    {
     "ename": "TypeError",
     "evalue": "unsupported operand type(s) for +: 'int' and 'str'",
     "output_type": "error",
     "traceback": [
      "\u001b[1;31m---------------------------------------------------------------------------\u001b[0m",
      "\u001b[1;31mTypeError\u001b[0m                                 Traceback (most recent call last)",
      "\u001b[1;32mc:\\Users\\Farley\\Desktop\\Curso Let'sc\\Exercícios\\Módulo - 2\\aula3_exceções.ipynb Cell 4'\u001b[0m in \u001b[0;36m<cell line: 37>\u001b[1;34m()\u001b[0m\n\u001b[0;32m     <a href='vscode-notebook-cell:/c%3A/Users/Farley/Desktop/Curso%20Let%27sc/Exerc%C3%ADcios/M%C3%B3dulo%20-%202/aula3_exce%C3%A7%C3%B5es.ipynb#ch0000005?line=34'>35</a>\u001b[0m             planilha[indice_1][indice_2] \u001b[39m=\u001b[39m \u001b[39mint\u001b[39m(planilha[indice_1][indice_2])\n\u001b[0;32m     <a href='vscode-notebook-cell:/c%3A/Users/Farley/Desktop/Curso%20Let%27sc/Exerc%C3%ADcios/M%C3%B3dulo%20-%202/aula3_exce%C3%A7%C3%B5es.ipynb#ch0000005?line=36'>37</a>\u001b[0m \u001b[39mfor\u001b[39;00m linha \u001b[39min\u001b[39;00m planilha:\n\u001b[1;32m---> <a href='vscode-notebook-cell:/c%3A/Users/Farley/Desktop/Curso%20Let%27sc/Exerc%C3%ADcios/M%C3%B3dulo%20-%202/aula3_exce%C3%A7%C3%B5es.ipynb#ch0000005?line=37'>38</a>\u001b[0m     media \u001b[39m=\u001b[39m \u001b[39mround\u001b[39m(\u001b[39msum\u001b[39;49m(linha[\u001b[39m1\u001b[39;49m:])\u001b[39m/\u001b[39m(\u001b[39mlen\u001b[39m(linha) \u001b[39m-\u001b[39m \u001b[39m1\u001b[39m), \u001b[39m2\u001b[39m)\n\u001b[0;32m     <a href='vscode-notebook-cell:/c%3A/Users/Farley/Desktop/Curso%20Let%27sc/Exerc%C3%ADcios/M%C3%B3dulo%20-%202/aula3_exce%C3%A7%C3%B5es.ipynb#ch0000005?line=38'>39</a>\u001b[0m     linha\u001b[39m.\u001b[39mappend(media)\n\u001b[0;32m     <a href='vscode-notebook-cell:/c%3A/Users/Farley/Desktop/Curso%20Let%27sc/Exerc%C3%ADcios/M%C3%B3dulo%20-%202/aula3_exce%C3%A7%C3%B5es.ipynb#ch0000005?line=39'>40</a>\u001b[0m     linha\u001b[39m.\u001b[39mappend(\u001b[39m'\u001b[39m\u001b[39mAPR\u001b[39m\u001b[39m'\u001b[39m \u001b[39mif\u001b[39;00m media \u001b[39m>\u001b[39m\u001b[39m=\u001b[39m nota_min \u001b[39melse\u001b[39;00m \u001b[39m'\u001b[39m\u001b[39mREP\u001b[39m\u001b[39m'\u001b[39m)\n",
      "\u001b[1;31mTypeError\u001b[0m: unsupported operand type(s) for +: 'int' and 'str'"
     ]
    }
   ],
   "source": [
    "import csv\n",
    "\n",
    "arquivo = open('alunos_notas.csv', 'r')\n",
    "planilha = list(csv.reader(arquivo, delimiter=';', lineterminator='\\n'))\n",
    "arquivo.close()\n",
    "\n",
    "nota_min = float(input('Digite a nota mínima para aprovação: '))\n",
    "\n",
    "# Separando nomes e notas\n",
    "lista_notas = []\n",
    "lista_nomes = []\n",
    "for lista in planilha:\n",
    "    lista_nomes.append(lista[0])\n",
    "    lista_notas.append(lista[1:])\n",
    "\n",
    "print(lista_notas)\n",
    "print(lista_nomes)\n",
    "\n",
    "for indice_a, notas in enumerate(lista_notas):\n",
    "    for indice_b, nota in enumerate(notas):\n",
    "        try:\n",
    "            notas[indice_b] = float(nota)\n",
    "        except ValueError:\n",
    "            notas[indice_b] = 0\n",
    "            print(f'A nota da prova \"{indice_b + 1 }\" do aluno {lista_nomes[indice_a]} '\n",
    "            f'não foi carregada corretamente, o valor zero foi atribuído')\n",
    "        if not 0 <= nota <= 10:\n",
    "            raise Exception(f'A nota da prova \"{indice_b + 1 }\" do aluno {lista_nomes[indice_a]}'\n",
    "                    f'está fora do intervalo esperado (entre 0 e 10), o valor zero foi atribuído')\n",
    "            except Exception:  \n",
    "                notas[indice_b] = 0\n",
    "\n",
    "\n",
    "print(lista_notas)\n",
    "print(lista_nomes)\n",
    "\n",
    "for indice_1, lista in enumerate(planilha):\n",
    "    for indice_2, elemento in enumerate(lista):\n",
    "        if elemento.isdigit():\n",
    "            planilha[indice_1][indice_2] = int(planilha[indice_1][indice_2])\n",
    "\n",
    "for linha in planilha:\n",
    "    media = round(sum(linha[1:])/(len(linha) - 1), 2)\n",
    "    linha.append(media)\n",
    "    linha.append('APR' if media >= nota_min else 'REP')\n",
    "\n",
    "print(planilha)\n",
    "\n",
    "arquivo = open('alunos_aprovados.csv', 'w')\n",
    "\n",
    "\n",
    "escritor = csv.writer(arquivo, delimiter=',', lineterminator='\\n')\n",
    "\n",
    "escritor.writerows(planilha)\n",
    "\n",
    "arquivo.close()"
   ]
  }
 ],
 "metadata": {
  "interpreter": {
   "hash": "c45c58f68c098130c354f07f7255d63718cafbf3e85e5aa056c9bb1a234d8c46"
  },
  "kernelspec": {
   "display_name": "Python 3.10.0 64-bit",
   "language": "python",
   "name": "python3"
  },
  "language_info": {
   "codemirror_mode": {
    "name": "ipython",
    "version": 3
   },
   "file_extension": ".py",
   "mimetype": "text/x-python",
   "name": "python",
   "nbconvert_exporter": "python",
   "pygments_lexer": "ipython3",
   "version": "3.10.0"
  },
  "orig_nbformat": 4
 },
 "nbformat": 4,
 "nbformat_minor": 2
}
