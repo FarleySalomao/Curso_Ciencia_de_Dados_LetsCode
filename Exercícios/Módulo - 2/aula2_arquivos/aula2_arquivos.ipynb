{
 "cells": [
  {
   "cell_type": "markdown",
   "metadata": {},
   "source": [
    "# Exercícios - parte 1\n",
    "\n",
    "Use o conteúdo ensinado até o momento para realizar os exercícios abaixo. \n",
    "\n",
    "Para os exercícios envolvendo números, você pode utilizar o arquivo ```numeros.txt``` fornecido junto deste _notebook_ para testá-los.\n",
    "\n",
    "-----\n",
    "\n",
    "Escreva um programa que lê um arquivo de texto contendo uma série de números separados por quebra de linha ('\\n') e os adiciona a uma lista. Imprima a lista na tela."
   ]
  },
  {
   "cell_type": "code",
   "execution_count": null,
   "metadata": {},
   "outputs": [],
   "source": [
    "arquivo = open('numeros.txt', 'r')\n",
    "numeros = arquivo.read()\n",
    "arquivo.close()\n",
    "lista_numeros = numeros.split('\\n')\n",
    "print(lista_numeros)"
   ]
  },
  {
   "cell_type": "markdown",
   "metadata": {},
   "source": [
    "Escreva um programa que lê um arquivo de texto contendo uma série de números separados por quebra de linha (```\\n```) e escreva na tela o somatório dos números."
   ]
  },
  {
   "cell_type": "code",
   "execution_count": null,
   "metadata": {},
   "outputs": [],
   "source": [
    "arquivo = open('numeros.txt', 'r')\n",
    "numeros = arquivo.read()\n",
    "arquivo.close()\n",
    "\n",
    "lista_numeros = [int(n) for n in numeros.split('\\n')]\n",
    "somatorio = sum(lista_numeros)\n",
    "print(somatorio)\n"
   ]
  },
  {
   "cell_type": "markdown",
   "metadata": {},
   "source": [
    "Escreva um programa que lê um arquivo de texto contendo uma série de números separados por quebra de linha (```\\n```). Crie um novo arquivo onde você irá escrever \"primo\" ou \"não-primo\" na linha correspondente a cada número.\n",
    "\n",
    "Lembrete: um número primo é divisível apenas por 1 e por ele mesmo."
   ]
  },
  {
   "cell_type": "code",
   "execution_count": null,
   "metadata": {},
   "outputs": [],
   "source": [
    "arquivo = open('numeros.txt', 'r')\n",
    "numeros = arquivo.read()\n",
    "arquivo.close()\n",
    "\n",
    "lista_numeros = numeros.split('\\n')\n",
    "\n",
    "def is_primo(n):\n",
    "    contador = 0\n",
    "    for num in range(1, n):\n",
    "        contador += 1 if n%num == 0 else 0\n",
    "    return 'primo' if contador < 2 else 'não-primo'\n",
    "\n",
    "\n",
    "lista_primos = [is_primo(int(n)) for n in lista_numeros]\n",
    "lista_numeros_primos = [' '.join([n,p]) for n, p in zip(lista_numeros, lista_primos)]\n",
    "\n",
    "\n",
    "arquivo = open('primo.txt', 'w', encoding='UTF-8')\n",
    "arquivo.write('\\n'.join(lista_numeros_primos))\n",
    "arquivo.close()"
   ]
  },
  {
   "cell_type": "markdown",
   "metadata": {},
   "source": [
    "Faça um programa que abre o arquivo ```domcasmurro.txt``` e monta um **histograma** das palavras do livro - ou seja, uma contagem de frequência. Use um dicionário para isso. \n",
    "\n",
    "Ex: para a string 'eu não programo em Java, mas programo em Python', o dicionário ficaria:\n",
    "\n",
    "```python\n",
    "{\n",
    "    'eu': 1,\n",
    "    'não': 1,\n",
    "    'programo': 2,\n",
    "    'em': 2,\n",
    "    'mas': 1,\n",
    "    'Python': 1\n",
    "}\n",
    "```\n",
    "\n",
    "**Importante:** para que seu histograma seja confiável, você precisará \"limpar\" o texto original: diferenças entre maiúsculas e minúsculas devem ser eliminadas, e caracteres como sinais de pontuação e aspas devem ser removidos.\n",
    "\n",
    "**Importante²:** o parâmetro opcional ```encoding='utf-8'``` irá garantir que o arquivo deste exercício será interpretado corretamente pelo Python."
   ]
  },
  {
   "cell_type": "code",
   "execution_count": null,
   "metadata": {},
   "outputs": [],
   "source": [
    "from string import punctuation\n",
    "\n",
    "arquivo = open('domcasmurro.txt', 'r', encoding='UTF-8')\n",
    "texto = arquivo.read()\n",
    "arquivo.close()\n",
    "\n",
    "def limpar_txt(texto):\n",
    "    texto = texto.lower()\n",
    "    for p in punctuation:\n",
    "        texto = texto.replace(p, '')\n",
    "    texto = texto.replace('\\n', '')\n",
    "    return texto\n",
    "\n",
    "\n",
    "def contar_palavra(texto):\n",
    "    texto_lista = texto.split()\n",
    "    dict = {w: texto_lista.count(w) for w in texto_lista}\n",
    "    return dict\n",
    "\n",
    "texto_limpo = limpar_txt(texto)\n",
    "histograma = contar_palavra(texto_limpo)\n",
    "histograma"
   ]
  },
  {
   "cell_type": "markdown",
   "metadata": {},
   "source": [
    "# Exercícios - parte 2\n",
    "\n",
    "Use o módulo ```csv``` recém-estudado para fazer os próximos exercícios.\n",
    "\n",
    "-----\n",
    "\n",
    "Faça um programa que pede para o usuário digitar a quantidade de provas aplicadas, a quantidade de alunos em uma turma e cada uma das notas. O seu programa deverá salvar as notas digitadas em um arquivo CSV onde cada linha representa um aluno e cada coluna representa uma prova."
   ]
  },
  {
   "cell_type": "code",
   "execution_count": 8,
   "metadata": {},
   "outputs": [
    {
     "name": "stdout",
     "output_type": "stream",
     "text": [
      "[['Farley', 5, 6, 7, 5], ['Daniel', 10, 8, 7, 9], ['Jaiana', 10, 9, 8, 7], ['João', 6, 7, 5, 5]]\n"
     ]
    }
   ],
   "source": [
    "import csv\n",
    "n_provas = int(input('Digite o número de provas aplicadas: '))\n",
    "n_alunos = int(input('Digite o número de alunos: '))\n",
    "\n",
    "lista_csv = []\n",
    "for aluno in range(n_alunos):\n",
    "    linha = []\n",
    "    nome = input('Digite o nome do aluno: ')\n",
    "    linha.append(nome)\n",
    "    for prova in range(n_provas):\n",
    "        nota = float(input(f'Digite a nota obtida pelo {nome} na prova {prova + 1}: '))\n",
    "        linha.append(nota)\n",
    "    lista_csv.append(linha)\n",
    "print(lista_csv)\n",
    "\n",
    "arquivo = open('alunos_notas.csv', 'w', encoding='UTF-8')\n",
    "\n",
    "escritor = csv.writer(arquivo, delimiter=';', lineterminator='\\n')\n",
    "\n",
    "escritor.writerows(lista_csv)\n",
    "\n",
    "arquivo.close()"
   ]
  },
  {
   "cell_type": "markdown",
   "metadata": {},
   "source": [
    "Faça um programa que carrega um arquivo CSV de notas (como o gerado pelo exercício anterior) e pede para o usuário digitar a nota mínima para aprovação. Ele deverá gerar um novo arquivo contendo as notas originais e 2 colunas adicionais: a média de cada aluno na primeira (com, no máximo, 2 casas decimais) e \"APR\" ou \"REP\" na segunda, indicando se a média atingiu o valor mínimo ou não."
   ]
  },
  {
   "cell_type": "code",
   "execution_count": 9,
   "metadata": {},
   "outputs": [
    {
     "name": "stdout",
     "output_type": "stream",
     "text": [
      "[['Farley', 5, 6, 7, 5, 5.75, 'REP'], ['Daniel', 10, 8, 7, 9, 8.5, 'APR'], ['Jaiana', 10, 9, 8, 7, 8.5, 'APR'], ['JoÃ£o', 6, 7, 5, 5, 5.75, 'REP']]\n"
     ]
    }
   ],
   "source": [
    "\n",
    "arquivo = open('alunos_notas.csv', 'r')\n",
    "planilha = list(csv.reader(arquivo, delimiter=';', lineterminator='\\n'))\n",
    "arquivo.close()\n",
    "\n",
    "nota_min = float(input('Digite a nota mínima para aprovação: '))\n",
    "\n",
    "\n",
    "for indice_1, lista in enumerate(planilha):\n",
    "    for indice_2, elemento in enumerate(lista):\n",
    "        if elemento.isdigit():\n",
    "            planilha[indice_1][indice_2] = int(planilha[indice_1][indice_2])\n",
    "\n",
    "for linha in planilha:\n",
    "    media = round(sum(linha[1:])/(len(linha) - 1), 2)\n",
    "    linha.append(media)\n",
    "    linha.append('APR' if media >= nota_min else 'REP')\n",
    "\n",
    "print(planilha)\n",
    "\n",
    "arquivo = open('alunos_aprovados.csv', 'w')\n",
    "\n",
    "\n",
    "escritor = csv.writer(arquivo, delimiter=',', lineterminator='\\n')\n",
    "\n",
    "escritor.writerows(planilha)\n",
    "\n",
    "arquivo.close()"
   ]
  },
  {
   "cell_type": "markdown",
   "metadata": {},
   "source": [
    "Faça um programa que abre o arquivo ```daily_IBM.csv``` e responda em qual data houve a maior oscilação de valor em um mesmo dia e quais foram os valores máximo e mínimo nessa data."
   ]
  },
  {
   "cell_type": "code",
   "execution_count": 10,
   "metadata": {},
   "outputs": [
    {
     "name": "stdout",
     "output_type": "stream",
     "text": [
      "A maior oscilação (US$9.04) ocorreu no dia 25 do 01 de 2022.\n",
      "com um preço máximo de: US$137.34 e um preço mínimo de: US$128.30\n"
     ]
    }
   ],
   "source": [
    "import csv\n",
    "with open('daily_IBM.csv', 'r') as arquivo:\n",
    "    tabela = list(csv.reader(arquivo, delimiter=',', lineterminator='\\n'))\n",
    "\n",
    "tabela_noheader = tabela[1:]\n",
    "oscilacao = [round((float(l[2]) - float(l[3])),2) for l in tabela_noheader]\n",
    "for linha_a, linha_b in zip(tabela_noheader, oscilacao):\n",
    "    linha_a.append(linha_b)\n",
    "\n",
    "def escrever_data(string):\n",
    "    return f'{string[-2:]} do {string[-5:-3]} de {string[-10:-6]}'\n",
    "\n",
    "tabela_sorted = sorted(tabela_noheader, key = lambda x: x[6], reverse=True)\n",
    "print(f'A maior oscilação (US${tabela_sorted[0][6]}) ocorreu no dia {escrever_data(tabela_sorted[0][0])}.\\n' \n",
    "        f'com um preço máximo de: US${float(tabela_sorted[0][2]):.2f} e um preço mínimo de: US${float(tabela_sorted[0][3]):.2f}')"
   ]
  },
  {
   "cell_type": "markdown",
   "metadata": {},
   "source": [
    "Bônus: arquivos JSON\n",
    "JSON é uma sigla para JavaScript Object Notation. O JavaScript é uma linguagem muito utilizada em web, e assim como o Python, ela é uma linguagem orientada a objeto. Ocorre que a forma como objetos são representados nessa linguagem é bastante legível para seres humanos e fácil de decompor usando programação também.\n",
    "\n",
    "Veja um exemplo de como podemos representar, por exemplo, um estudante em JavaScript:\n",
    "\n",
    "{\n",
    "    nome: 'Mario',\n",
    "    modulo: 2,\n",
    "    media: 9.5 \n",
    "}\n",
    "Parece familiar? É extremamente parecido com dicionários em Python. O Python possui um módulo já instalado chamado json que nos ajuda a converter entre uma string contendo um JSON e um dicionário.\n",
    "\n",
    "Atenção: No caso do JSON faremos exatamente como nos dicionários em Python: as chaves deverão vir entre aspas.\n",
    "\n",
    "Os valores de um JSON podem ser vários tipos de dados que estamos acostumados em Python: inteiros, reais, strings, booleanos, e até mesmo listas (representadas com colchetes) e outros JSON/dicionários (representados por chaves). Por exemplo:\n",
    "\n",
    "{\n",
    "    'escola':\"Let's Code\",\n",
    "    'cursos':[{'nome':'Python Pro', 'duracao':2}, \n",
    "            {'nome':'Data Science', 'duracao':2},\n",
    "            {'nome':'Front-End', 'duracao':2}]\n",
    "}\n",
    "JSON para dicionário\n",
    "O método loads recebe uma string contendo um JSON e retorna um dicionário, o que torna bastante fácil o acesso a informações individuais:"
   ]
  },
  {
   "cell_type": "code",
   "execution_count": 1,
   "metadata": {},
   "outputs": [
    {
     "name": "stdout",
     "output_type": "stream",
     "text": [
      "Mario\n",
      "0\n"
     ]
    }
   ],
   "source": [
    "import json\n",
    "\n",
    "jogador = '{\"nome\":\"Mario\",\"pontuacao\":0}'\n",
    "\n",
    "dicionario = json.loads(jogador)\n",
    "\n",
    "print(dicionario['nome'])\n",
    "print(dicionario['pontuacao'])"
   ]
  },
  {
   "cell_type": "code",
   "execution_count": 3,
   "metadata": {},
   "outputs": [
    {
     "name": "stdout",
     "output_type": "stream",
     "text": [
      "{\"nome\": \"Mario\", \"pontuacao\": 0}\n"
     ]
    }
   ],
   "source": [
    "import json\n",
    "\n",
    "jogador = dict()\n",
    "jogador['nome']  = 'Mario'\n",
    "jogador['pontuacao'] = 0\n",
    "\n",
    "string_json = json.dumps(jogador)\n",
    "\n",
    "print(string_json)"
   ]
  },
  {
   "cell_type": "markdown",
   "metadata": {},
   "source": [
    "E os arquivos?\n",
    "Arquivos JSON, assim como CSV, são arquivos de texto puro onde o texto deve representar a estrutura dada acima. Sendo assim, caso você tenha um arquivo .json, você pode abri-lo usando as mesmas técnicas que estudamos para arquivos de texto (open/read) e em seguida usar o loads para obter um dicionário.\n",
    "\n",
    "Já quando temos um dicionário que gostaríamos de salvar como um .json, basta usar o dumps para obter a string, e em seguida podemos utilizar write no arquivo desejado."
   ]
  }
 ],
 "metadata": {
  "interpreter": {
   "hash": "c45c58f68c098130c354f07f7255d63718cafbf3e85e5aa056c9bb1a234d8c46"
  },
  "kernelspec": {
   "display_name": "Python 3.10.0 64-bit",
   "language": "python",
   "name": "python3"
  },
  "language_info": {
   "codemirror_mode": {
    "name": "ipython",
    "version": 3
   },
   "file_extension": ".py",
   "mimetype": "text/x-python",
   "name": "python",
   "nbconvert_exporter": "python",
   "pygments_lexer": "ipython3",
   "version": "3.10.0"
  },
  "orig_nbformat": 4
 },
 "nbformat": 4,
 "nbformat_minor": 2
}
