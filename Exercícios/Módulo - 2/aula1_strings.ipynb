{
 "cells": [
  {
   "cell_type": "markdown",
   "metadata": {},
   "source": [
    "# Exercícios"
   ]
  },
  {
   "cell_type": "markdown",
   "metadata": {},
   "source": [
    "1.  Faça um programa que peça para o usuário digitar uma palavra e imprima cada letra em uma linha.\n"
   ]
  },
  {
   "cell_type": "code",
   "execution_count": null,
   "metadata": {},
   "outputs": [],
   "source": [
    "palavra = input('Digite uma palavra: ')\n",
    "for letra in palavra:\n",
    "    print(letra)"
   ]
  },
  {
   "cell_type": "code",
   "execution_count": 74,
   "metadata": {},
   "outputs": [
    {
     "name": "stdout",
     "output_type": "stream",
     "text": [
      "p\n",
      "a\n",
      "l\n",
      "a\n",
      "v\n",
      "r\n",
      "a\n"
     ]
    }
   ],
   "source": [
    "palavra = input('Digite uma palavra: ')\n",
    "letra_por_linha = '\\n'.join(list(palavra))\n",
    "print(letra_por_linha)"
   ]
  },
  {
   "cell_type": "markdown",
   "metadata": {},
   "source": [
    "2. Faça um programa que pede para o usuário digitar uma palavra e cria uma nova string igual, copiando letra por letra a palavra digitada, depois imprima a nova string."
   ]
  },
  {
   "cell_type": "code",
   "execution_count": 10,
   "metadata": {},
   "outputs": [
    {
     "name": "stdout",
     "output_type": "stream",
     "text": [
      "palavra\n"
     ]
    }
   ],
   "source": [
    "palavra = input('Digite uma palavra: ')\n",
    "nova_palavra = ''\n",
    "for letra in palavra:\n",
    "    nova_palavra += letra\n",
    "print(nova_palavra)"
   ]
  },
  {
   "cell_type": "markdown",
   "metadata": {},
   "source": [
    "3. Altere o exercício anterior para que a string copiada alterne entre letras maiúsculas e minúsculas.\n",
    "\n",
    "Exemplo: se o usuário digitar \"latex\" o programa deve imprimir \"LaTeX\"."
   ]
  },
  {
   "cell_type": "code",
   "execution_count": 11,
   "metadata": {},
   "outputs": [
    {
     "name": "stdout",
     "output_type": "stream",
     "text": [
      "PaLaVrA\n"
     ]
    }
   ],
   "source": [
    "palavra = input('Digite uma palavra: ')\n",
    "nova_palavra = ''\n",
    "upper = 1\n",
    "for letra in palavra:\n",
    "    if upper == 1:\n",
    "        nova_palavra += letra.upper()\n",
    "        upper = 0\n",
    "    else:\n",
    "        nova_palavra += letra\n",
    "        upper = 1\n",
    "print(nova_palavra)"
   ]
  },
  {
   "cell_type": "code",
   "execution_count": 15,
   "metadata": {},
   "outputs": [
    {
     "name": "stdout",
     "output_type": "stream",
     "text": [
      "PaLaVra\n"
     ]
    }
   ],
   "source": [
    "palavra = input('Digite uma palavra: ')\n",
    "nova_palavra = ''.join([letra.upper() if palavra.index(letra)%2 == 0 else letra for letra in palavra])\n",
    "print(nova_palavra)"
   ]
  },
  {
   "cell_type": "markdown",
   "metadata": {},
   "source": [
    "4. Faça um programa que pede para o usuário digitar uma palavra e cria uma nova string igual, porém com espaço entre cada letra, depois imprima a nova string:\n",
    "\n",
    "Exemplo: se o usuário digitar \"python\" o programa deve imprimir \"p y t h o n \""
   ]
  },
  {
   "cell_type": "code",
   "execution_count": 18,
   "metadata": {},
   "outputs": [
    {
     "name": "stdout",
     "output_type": "stream",
     "text": [
      "p a l a v r a\n"
     ]
    }
   ],
   "source": [
    "palavra = input('Digite uma palavra: ')\n",
    "palavra_espaço = ' '.join(list(palavra))\n",
    "print(palavra_espaço)"
   ]
  },
  {
   "cell_type": "markdown",
   "metadata": {},
   "source": [
    "5. Faça uma função que receba uma string e retorne uma nova string substituindo:\n",
    "\n",
    "'a' por '4'\n",
    "\n",
    "'e' por '3'\n",
    "\n",
    "'l' por '1'\n",
    "\n",
    "'t' por '7'"
   ]
  },
  {
   "cell_type": "code",
   "execution_count": 21,
   "metadata": {},
   "outputs": [],
   "source": [
    "def sub_letra_num(palavra):\n",
    "    nova_palavra = ''\n",
    "    dict_troca = {\n",
    "                    'a': '4',\n",
    "                    'e': '3',\n",
    "                    'l': '1',\n",
    "                    't': '7'\n",
    "                    }\n",
    "    for letra in palavra:\n",
    "        if letra in dict_troca.keys():\n",
    "            nova_palavra += dict_troca[letra]\n",
    "        else:\n",
    "            nova_palavra += letra\n",
    "    return nova_palavra"
   ]
  },
  {
   "cell_type": "code",
   "execution_count": 26,
   "metadata": {},
   "outputs": [],
   "source": [
    "def sub_letra_num_2(palavra):\n",
    "    dict_troca = {\n",
    "                    'a': '4',\n",
    "                    'e': '3',\n",
    "                    'l': '1',\n",
    "                    't': '7'\n",
    "                    }\n",
    "    nova_palavra = ''.join([dict_troca[letra] if letra in dict_troca.keys() else letra for letra in palavra])\n",
    "    return nova_palavra"
   ]
  },
  {
   "cell_type": "markdown",
   "metadata": {},
   "source": [
    "6. Faça uma função que recebe uma string e retorna ela ao contrário.\n",
    "\n",
    "Exemplo: Recebe \"teste\" e retorna \"etset\"."
   ]
  },
  {
   "cell_type": "code",
   "execution_count": 29,
   "metadata": {},
   "outputs": [],
   "source": [
    "def inv_palavra(palavra):\n",
    "    return palavra[::-1]"
   ]
  },
  {
   "cell_type": "markdown",
   "metadata": {},
   "source": [
    "7. Agora faça uma função que recebe uma palavra e diz se ela é um palíndromo, ou seja, se ela é igual a ela mesma ao contrário.\n",
    "\n",
    "Dica: use a função do exercício anterior."
   ]
  },
  {
   "cell_type": "code",
   "execution_count": 36,
   "metadata": {},
   "outputs": [],
   "source": [
    "def palindromo(palavra):\n",
    "    return True if palavra.lower() == palavra.lower()[::-1] else False"
   ]
  },
  {
   "cell_type": "markdown",
   "metadata": {},
   "source": [
    "8. Faça uma função que receba uma string que contém tanto números quanto letras e caracteres especiais, e que separe as letras em uma variável e os números em outra (os caracteres especiais podem ser descartados). Ao final a função deve imprimir as duas variáveis."
   ]
  },
  {
   "cell_type": "code",
   "execution_count": 45,
   "metadata": {},
   "outputs": [],
   "source": [
    "def sep_letra_num(string):\n",
    "    num = ''.join([char for char in string if ord(char) in range(48, 58)])\n",
    "    letras = ''.join([char for char in string.lower() if ord(char) in range(97, 123)])\n",
    "    return num, letras"
   ]
  },
  {
   "cell_type": "markdown",
   "metadata": {},
   "source": [
    "9. Desafio - Faça uma função que receba uma string e uma letra e:\n",
    "\n",
    "a. imprima quantas vezes a letra aparece na string;\n",
    "\n",
    "b. imprima todas as posições em que a letra aparece na string;\n",
    "\n",
    "c. retorne a distância entre a primeira e a última aparição dessa letra na string."
   ]
  },
  {
   "cell_type": "code",
   "execution_count": 62,
   "metadata": {},
   "outputs": [],
   "source": [
    "def posicao_letra(palavra, letra):\n",
    "    indices = []\n",
    "    for indice, char in enumerate(palavra):\n",
    "        if char == letra:\n",
    "            indices.append(indice)\n",
    "    return indices\n",
    "\n",
    "def distancia_letra(palavra, letra):\n",
    "    indices = posicao_letra(palavra, letra)\n",
    "    distancia = (indices[-1] - indices[0]) - 1\n",
    "    return distancia if len(indices) > 1 else 0\n",
    "\n",
    "def calc_letra(palavra, letra):\n",
    "    return palavra.count(letra), posicao_letra(palavra, letra), distancia_letra(palavra, letra)"
   ]
  },
  {
   "cell_type": "markdown",
   "metadata": {},
   "source": [
    "10. Desafio - faça uma função que criptografa uma mensagem substituindo cada letra pela letra oposta do dicionário:\n",
    "\n",
    "'a' por 'z'\n",
    "\n",
    "'b' por 'y'\n",
    "\n",
    "'c' por 'x'"
   ]
  },
  {
   "cell_type": "code",
   "execution_count": 73,
   "metadata": {},
   "outputs": [],
   "source": [
    "def criptografar(mensagem):\n",
    "    c_mensagem = ''.join([  chr(219 - ord(letra)) for letra in mensagem.lower()])\n",
    "    return c_mensagem"
   ]
  }
 ],
 "metadata": {
  "interpreter": {
   "hash": "c45c58f68c098130c354f07f7255d63718cafbf3e85e5aa056c9bb1a234d8c46"
  },
  "kernelspec": {
   "display_name": "Python 3.10.0 64-bit",
   "language": "python",
   "name": "python3"
  },
  "language_info": {
   "codemirror_mode": {
    "name": "ipython",
    "version": 3
   },
   "file_extension": ".py",
   "mimetype": "text/x-python",
   "name": "python",
   "nbconvert_exporter": "python",
   "pygments_lexer": "ipython3",
   "version": "3.10.0"
  },
  "orig_nbformat": 4
 },
 "nbformat": 4,
 "nbformat_minor": 2
}
