{
 "cells": [
  {
   "cell_type": "markdown",
   "metadata": {},
   "source": [
    "Faça uma função que recebe uma quantidade arbitrária de variáveis de qualquer tipo e retorna uma string contendo todas as suas representações separadas por espaço."
   ]
  },
  {
   "cell_type": "code",
   "execution_count": 9,
   "metadata": {},
   "outputs": [],
   "source": [
    "def escrever(*args):\n",
    "    lista_str = []\n",
    "    for elemento in args:\n",
    "        lista_str.append(str(elemento))\n",
    "    return ' '.join(lista_str)"
   ]
  },
  {
   "cell_type": "markdown",
   "metadata": {},
   "source": [
    "Modifique a função anterior para incluir um parâmetro opcional indicando o caractere de separação entre as variáveis. Seu valor padrão será 1 espaço em branco.\n"
   ]
  },
  {
   "cell_type": "code",
   "execution_count": 15,
   "metadata": {},
   "outputs": [],
   "source": [
    "def escrever(*args, sep=' '):\n",
    "    lista_str = []\n",
    "    for elemento in args:\n",
    "        lista_str.append(str(elemento))\n",
    "    return sep.join(lista_str)"
   ]
  },
  {
   "cell_type": "markdown",
   "metadata": {},
   "source": [
    "Faça sua própria função \"sorted\", que recebe uma coleção de elementos e retorna uma nova lista contendo os elementos ordenados. Ela deverá receber:\n",
    "\n",
    "uma lista ou uma tupla (obrigatório).\n",
    "um booleano indicando se deve ser ordem inversa ou não (opcional, com valor padrão).\n",
    "uma função (sim, isso pode!) que será usada para comparar os valores da lista entre eles (opcional, com valor padrão null) - caso seja null, utilize os operadores \">\" ou \"<\" para fazer as comparações.\n",
    "Faça tratamento de exceção da maneira que julgar melhor para lidar com a possibilidade da lista de entrada conter elementos que não podem ser comparados entre si (como str e int, por exemplo)."
   ]
  },
  {
   "cell_type": "code",
   "execution_count": 32,
   "metadata": {},
   "outputs": [],
   "source": [
    "def verificar(colecao):\n",
    "    tipo = type(colecao[0])\n",
    "    for elemento in colecao:\n",
    "        if type(elemento) != tipo:\n",
    "            raise Exception('A colecao contém elementos não comparáveis')\n",
    "    return None\n",
    "\n",
    "def ordenar(colecao, invertida=False, ):\n",
    "    verificar(colecao)\n",
    "    lista_ordenada = []\n",
    "    tipo = type(colecao)\n",
    "    colecao = list(colecao)\n",
    "    while colecao:\n",
    "        if invertida:\n",
    "            lista_ordenada.append(colecao.pop(colecao.index(max(colecao))))\n",
    "        else:\n",
    "            lista_ordenada.append(colecao.pop(colecao.index(min(colecao))))\n",
    "    return tuple(lista_ordenada) if tipo == tuple else lista_ordenada "
   ]
  },
  {
   "cell_type": "markdown",
   "metadata": {},
   "source": [
    "Faça um programa com um menu que permita cadastrar novos usuários, buscar usuários já existentes, modificar um usuário existente e visualizar todos os usuários.\n",
    "\n",
    "Cada usuário deve ter, obrigatoriamente:\n",
    "\n",
    "Nome\n",
    "CPF (deve ser único)\n",
    "e-mail (deve ser único)\n",
    "Opcionalmente, usuários podem ter:\n",
    "\n",
    "Data de nascimento\n",
    "Profissão\n",
    "Escolaridade (a ser escolhida de uma lista: infantil, fundamental, médio, superior, pós)\n",
    "Para a busca, podemos passar um ou mais dos dados (ex: apenas nome, ou data de nascimento + profissão), e teremos um parâmetro opcional indicando se os resultados mostrarão usuários que bateram com pelo menos 1 dos parâmetros buscados (ex: nome igual, mas CPF diferente) ou apenas que bateram com todas as informações passadas.\n",
    "\n",
    "Estruture seu programa para utilizar funções com parâmetros opcionais.\n",
    "\n",
    "Desafio 1: faça toda a comunicação de erros entre funções e diferentes partes do programa via exceções.\n",
    "\n",
    "Desafio 2: adicione persistência ao seu programa em formato .json\n",
    "\n",
    "Desafio 3: valide CPF, e-mail e data de nascimento (apenas CPFs válidos, e-mail apenas com caracteres válidos, e 1 única arroba que contenha caracteres antes e depois, data de nascimento obrigatoriamente no formato aaaa-mm-dd e que não aceite dias inválidos, como 30 de fevereiro).\n",
    "\n",
    "Desafio 4: acrescente ao desafio 3 a verificação para 29/fev e ano bissexto."
   ]
  },
  {
   "cell_type": "code",
   "execution_count": 68,
   "metadata": {},
   "outputs": [],
   "source": [
    "#cadastrar novos usuarios\n",
    "#buscar usuarios já existentes\n",
    "#modificar um usuario existente\n",
    "#vizualizar todos os usuarios\n",
    "\n",
    "#data de nascimento, profissão escolaridade\n",
    "\n",
    "with open('cadastro.json', 'r') as cadastro:\n",
    "    dados = json.loads(cadastro.read())\n",
    "\n",
    "def cadastrar(nome, cpf, email, **kwargs):\n",
    "    chaves = ['Nome', 'CPF', 'E-mail']\n",
    "    valores = [nome, cpf, email]\n",
    "    chaves_adc = ['Nascimento', 'Profissão', 'Educação']\n",
    "    \n",
    "    for chave in kwargs:\n",
    "        if chave in chaves_adc:\n",
    "            chaves.append(chave)\n",
    "            valores.append(kwargs[chave])\n",
    "    \n",
    "    return {chave: valor for chave, valor in zip(chaves,valores)}\n",
    "\n",
    "def buscar(nome, dados=dados):\n",
    "    return [dict for dict in dados if dict['nome'] == nome]\n",
    "\n",
    "def escrever(dado, dados=dados):\n",
    "    dado_json = json.dumps(dado)\n",
    "    with open('cadastro.json', 'a+') as cadastro:\n",
    "        cadastro.write(dado_json)\n",
    "        \n",
    "def vizualizar(dados=dados):\n",
    "    for elemento in dados:\n",
    "        print('----------------')\n",
    "        for chave in elemento:\n",
    "            print(f'{chave}: {elemento[chave]}')"
   ]
  },
  {
   "cell_type": "code",
   "execution_count": 69,
   "metadata": {},
   "outputs": [],
   "source": [
    "farley = cadastrar('Farley', '110-198-296-99', 'farleysalf@gmail.com')\n",
    "escrever(farley)"
   ]
  },
  {
   "cell_type": "code",
   "execution_count": 38,
   "metadata": {},
   "outputs": [
    {
     "name": "stdout",
     "output_type": "stream",
     "text": [
      "[{'id': 'ca728758-9027-4af2-8253-7cbbf50083e6', 'preco': '1622.50', 'categoria': 'pcs'}, {'id': '6dfb3cd6-aa63-4238-81b2-8df5b454f587', 'preco': '4483.69', 'categoria': 'livros_importados'}]\n"
     ]
    }
   ],
   "source": [
    "import json\n",
    "\n",
    "with open('cadastro.json', 'r') as cadastro:\n",
    "    dados = json.loads(cadastro.read())\n",
    "\n",
    "print(dados)\n",
    "    "
   ]
  },
  {
   "cell_type": "code",
   "execution_count": 2,
   "metadata": {},
   "outputs": [
    {
     "name": "stdout",
     "output_type": "stream",
     "text": [
      "Cadastro realizado com sucesso!\n",
      "Cadastro realizado com sucesso!\n",
      "Cadastro realizado com sucesso!\n",
      "Nenhum dado encontrado!\n"
     ]
    }
   ],
   "source": [
    "def cadastro(**usuario):\n",
    "\tif not ('nome' in usuario) and not ('cpf') in usuario:\n",
    "\t\tprint('Nenhum dado encontrado!')\n",
    "\telse:\n",
    "\t\tarquivo = open('usuarios.txt', 'a')\n",
    "\t\tif 'nome' in usuario:\n",
    "\t\t\tarquivo.write(usuario['nome'] + '\\n')\n",
    "\t\tif 'cpf' in usuario:\n",
    "\t\t\tarquivo.write(str(usuario['cpf']) + '\\n')\n",
    "\t\tarquivo.write('-----\\n')\n",
    "\t\tarquivo.close()\n",
    "\t\tprint('Cadastro realizado com sucesso!')\n",
    "\n",
    "cadastro(nome = 'João', cpf = 123456789) # tem ambos\n",
    "cadastro(nome = 'José') # tem apenas nome\n",
    "cadastro(cpf = 987654321) # tem apenas cpf\n",
    "cadastro(rg = 192837465) # não tem nome nem cpf"
   ]
  },
  {
   "cell_type": "code",
   "execution_count": 1,
   "metadata": {},
   "outputs": [
    {
     "name": "stdout",
     "output_type": "stream",
     "text": [
      "{\"nome\": \"Mario\", \"pontuacao\": 0}\n"
     ]
    }
   ],
   "source": [
    "import json\n",
    "\n",
    "jogador = dict()\n",
    "jogador['nome']  = 'Mario'\n",
    "jogador['pontuacao'] = 0\n",
    "\n",
    "string_json = json.dumps(jogador)\n",
    "\n",
    "print(string_json)"
   ]
  }
 ],
 "metadata": {
  "kernelspec": {
   "display_name": "Python 3.10.0 64-bit",
   "language": "python",
   "name": "python3"
  },
  "language_info": {
   "codemirror_mode": {
    "name": "ipython",
    "version": 3
   },
   "file_extension": ".py",
   "mimetype": "text/x-python",
   "name": "python",
   "nbconvert_exporter": "python",
   "pygments_lexer": "ipython3",
   "version": "3.10.0"
  },
  "orig_nbformat": 4,
  "vscode": {
   "interpreter": {
    "hash": "c45c58f68c098130c354f07f7255d63718cafbf3e85e5aa056c9bb1a234d8c46"
   }
  }
 },
 "nbformat": 4,
 "nbformat_minor": 2
}
