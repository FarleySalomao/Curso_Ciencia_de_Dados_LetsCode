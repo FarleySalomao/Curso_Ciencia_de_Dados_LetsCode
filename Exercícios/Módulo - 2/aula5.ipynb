{
 "cells": [
  {
   "cell_type": "markdown",
   "metadata": {},
   "source": [
    "    1. Um professor precisou anular uma questão de uma prova. Faça uma função que recebe a lista de notas da turma, o valor da questão e soma esse valor em todas as notas."
   ]
  },
  {
   "cell_type": "code",
   "execution_count": null,
   "metadata": {},
   "outputs": [],
   "source": [
    "def recalcular_notas(notas: list, valor: float) -> list:\n",
    "    return [nota + valor for nota in notas]"
   ]
  },
  {
   "cell_type": "markdown",
   "metadata": {},
   "source": [
    "    2. Faça uma função que recebe uma lista de números e retorna uma lista contendo os cubos dos números pares."
   ]
  },
  {
   "cell_type": "code",
   "execution_count": null,
   "metadata": {},
   "outputs": [],
   "source": [
    "def cubo_pares(numeros: list) -> list:\n",
    "    return [num**2 for num in numeros if num%2 == 0 ]"
   ]
  },
  {
   "cell_type": "markdown",
   "metadata": {},
   "source": [
    "    3. Faça uma função que recebe uma lista de números e retorna uma lista contendo os cubos dos números positivos e o quadrado dos números negativos."
   ]
  },
  {
   "cell_type": "code",
   "execution_count": null,
   "metadata": {},
   "outputs": [],
   "source": [
    "def quad_cubo(numeros: list) -> list:\n",
    "    return [num**3 if num > 0 else num**2 for num in numeros]"
   ]
  },
  {
   "cell_type": "markdown",
   "metadata": {},
   "source": [
    "4. Faça uma função que retorna uma lista contendo apenas float a partir de uma lista contendo variáveis inteiras, float e strings. Exemplo:\n",
    "\n",
    "Entrada: [1, 2.0, '3', 4.0, '5.5', 6]\n",
    "\n",
    "Saída: [1.0, 2.0, 3.0, 4.0, 5.5, 6.0]"
   ]
  },
  {
   "cell_type": "code",
   "execution_count": null,
   "metadata": {},
   "outputs": [],
   "source": [
    "def to_float(lista: list) -> list:\n",
    "    return [float(num) for num in lista]"
   ]
  },
  {
   "cell_type": "markdown",
   "metadata": {},
   "source": [
    "    5. Faça uma função que retorna uma lista contendo apenas números a partir de uma lista contendo variáveis inteiras, float e strings. Valores já numéricos não devem ter seu tipo alterado, apenas strings. Exemplo:\n",
    "\n",
    "Entrada: [1, 2.0, '3', 4.0, '5.5', 6]\n",
    "\n",
    "Saída: [1, 2.0, 3.0, 4.0, 5.5, 6]"
   ]
  },
  {
   "cell_type": "code",
   "execution_count": null,
   "metadata": {},
   "outputs": [],
   "source": [
    "def str_to_float(lista: list) -> list:\n",
    "    return [float(num) if type(num) == str else num for num in lista]"
   ]
  },
  {
   "cell_type": "markdown",
   "metadata": {},
   "source": [
    "    6. Faça uma função que recebe uma lista de nomes, uma lista de médias e a nota mínima para aprovação. Ela deverá retornar uma lista com os nomes dos alunos reprovados."
   ]
  },
  {
   "cell_type": "code",
   "execution_count": null,
   "metadata": {},
   "outputs": [],
   "source": [
    "def reprovados(nomes: list, medias: list, min: float) -> list:\n",
    "    return [nome for nome, media in zip(nomes, medias) if media < min] "
   ]
  },
  {
   "cell_type": "markdown",
   "metadata": {},
   "source": [
    "    7. Faça uma função que recebe uma lista de nomes, uma lista de médias e a nota mínima para aprovação. Ela deverá retornar um dicionário contendo os nomes dos alunos e \"APR\" ou \"REP\" indicando a situação de cada um deles."
   ]
  },
  {
   "cell_type": "code",
   "execution_count": null,
   "metadata": {},
   "outputs": [],
   "source": [
    "def resultados(nomes: list, medias: list, min: float):\n",
    "    return {nome: ('APR' if media >= min else 'REP') for nome, media in zip(nomes, medias)}"
   ]
  },
  {
   "cell_type": "markdown",
   "metadata": {},
   "source": [
    "    8. Crie o seu próprio gerador que funcione como o range.\n",
    "\n",
    "Se ele receber 1 parâmetro, considere como valor final (não incluso na sequência). Valor inicial será 0 e passo será 1.\n",
    "Se ele receber 2 parâmetros, interprete como valor inicial (incluso) e valor final (não incluso), respectivamente. O passo será 1.\n",
    "Se ele receber 3 parâmetros, interprete como valor inicial (incluso), valor final (não incluso) e passo.\n",
    "Caso não receba parâmetros, receba mais do que 3 parâmetros ou receba algum parâmetro que não seja int, lance uma exceção."
   ]
  },
  {
   "cell_type": "code",
   "execution_count": null,
   "metadata": {},
   "outputs": [],
   "source": [
    "def meu_range(*args):\n",
    "        \n",
    "    if len(args) < 1 or len(args) > 3:\n",
    "        raise Exception('Quantidade incorreta de argumentos')\n",
    "\n",
    "    inicial = 0\n",
    "    limite = args[0]\n",
    "    passo = 1\n",
    "\n",
    "    if len(args) == 2:\n",
    "        inicial, limite = args\n",
    "\n",
    "    if len(args) == 3:\n",
    "        inicial, limite, passo = args\n",
    "    \n",
    "    while inicial < limite:\n",
    "        yield inicial\n",
    "        inicial += passo"
   ]
  },
  {
   "cell_type": "markdown",
   "metadata": {},
   "source": [
    "    9. Crie um gerador infinito para representar uma progressão aritmética. Dada uma razão e um termo inicial, ele deverá calcular o restante dos termos."
   ]
  },
  {
   "cell_type": "code",
   "execution_count": null,
   "metadata": {},
   "outputs": [],
   "source": [
    "def prog_ari(inicial, razao):\n",
    "    while True:\n",
    "        yield inicial\n",
    "        inicial += razao\n"
   ]
  },
  {
   "cell_type": "markdown",
   "metadata": {},
   "source": [
    "    10. Faça um gerador infinito para representar uma progressão geométrica. Dada uma razão e um termo inicial ele deverá calcular o restante dos termos.\n",
    "\n"
   ]
  },
  {
   "cell_type": "code",
   "execution_count": null,
   "metadata": {},
   "outputs": [],
   "source": [
    "def prog_geo(inicial, razao):\n",
    "    while True:\n",
    "        yield inicial\n",
    "        inicial *= razao"
   ]
  },
  {
   "cell_type": "markdown",
   "metadata": {},
   "source": [
    "    11. Crie um gerador capaz de gerar infinitos números de Fibonacci.\n",
    "\n",
    "Lembre-se de como os números de Fibonacci são gerados:\n",
    "\n",
    "f(0) = 0 f(1) = 1 f(n) = f(n-1) + f(n-2)\n",
    "\n",
    "Os primeiros números de Fibonacci são: 0, 1, 1, 2, 3, 5, 8, 13, 21, 34, 55, 89, 144..."
   ]
  },
  {
   "cell_type": "code",
   "execution_count": null,
   "metadata": {},
   "outputs": [],
   "source": [
    "def fib():\n",
    "    a, b = 0, 1\n",
    "    while True:\n",
    "        yield a\n",
    "        a, b = b, a + b\n",
    "\n",
    "gen_fib = fib()"
   ]
  },
  {
   "cell_type": "markdown",
   "metadata": {},
   "source": [
    "\n",
    "\n",
    "        "
   ]
  },
  {
   "cell_type": "markdown",
   "metadata": {},
   "source": [
    "    12. Crie um gerador capaz de gerar infinitos números primos.\n",
    "\n",
    "Um número primo é divisível apenas por 1 e por ele mesmo.\n",
    "\n",
    "Exemplos: 2, 3, 5, 7, 11, 13, 17, 19, 23, 29...\n"
   ]
  },
  {
   "cell_type": "code",
   "execution_count": null,
   "metadata": {},
   "outputs": [],
   "source": [
    "def is_prime(x):\n",
    "    if x < 2:\n",
    "        return False\n",
    "    else:\n",
    "        for n in range(2,(x//2 + 1)):\n",
    "            if x % n == 0:\n",
    "               return False\n",
    "        return True\n",
    "\n",
    "def gen_primo():\n",
    "    contador = 1\n",
    "    while True:\n",
    "        if is_prime(contador):\n",
    "            yield contador\n",
    "        contador += 1"
   ]
  },
  {
   "cell_type": "code",
   "execution_count": null,
   "metadata": {},
   "outputs": [],
   "source": [
    "import csv\n",
    "n_provas = int(input('Digite o número de provas aplicadas: '))\n",
    "n_alunos = int(input('Digite o número de alunos: '))\n",
    "\n",
    "lista_csv = []\n",
    "for aluno in range(n_alunos):\n",
    "    linha = []\n",
    "    nome = input('Digite o nome do aluno: ')\n",
    "    linha.append(nome)\n",
    "    for prova in range(n_provas):\n",
    "        nota = float(input(f'Digite a nota obtida pelo {nome} na prova {prova + 1}: '))\n",
    "        linha.append(nota)\n",
    "    lista_csv.append(linha)\n",
    "print(lista_csv)\n",
    "\n",
    "arquivo = open('alunos_notas.csv', 'w', encoding='UTF-8')\n",
    "\n",
    "escritor = csv.writer(arquivo, delimiter=';', lineterminator='\\n')\n",
    "\n",
    "escritor.writerows(lista_csv)\n",
    "\n",
    "arquivo.close()"
   ]
  },
  {
   "cell_type": "markdown",
   "metadata": {},
   "source": [
    "    13. Você fez o exercício abaixo na lista de arquivos:\n",
    "\n",
    "Faça um programa que carrega um arquivo CSV de notas (como o gerado pelo exercício anterior) e pede para o usuário digitar a nota mínima para aprovação. Ele deverá gerar um novo arquivo contendo as notas originais e 2 colunas adicionais: a média de cada aluno na primeira (com, no máximo, 2 casas decimais) e \"APR\" ou \"REP\" na segunda, indicando se a média atingiu o valor mínimo ou não.\n",
    "\n",
    "Refaça esse exercício utilizando compreensão de listas para montar a tabela de notas já com todas as notas convertidas para float."
   ]
  },
  {
   "cell_type": "code",
   "execution_count": null,
   "metadata": {},
   "outputs": [],
   "source": []
  },
  {
   "cell_type": "code",
   "execution_count": 192,
   "metadata": {},
   "outputs": [],
   "source": [
    "import csv\n",
    "\n",
    "arquivo = open('notas.csv', 'r')\n",
    "\n",
    "leitor = csv.reader(arquivo, delimiter=';', lineterminator='\\n')\n",
    "tabela = list(leitor)\n",
    "\n",
    "tabela_notas_float = [[float(nota) for nota in linha] for linha in tabela]\n",
    "\n",
    "medias = [round(sum(linha)/len(linha), 2) for linha in tabela_notas_float]\n",
    "\n",
    "min = float(input('Digite a nota minima para aprovação: '))\n",
    "\n",
    "aprov_rep = ['APR' if nota >= min else 'REP' for nota in medias]\n",
    "\n",
    "tabela_final = [[*l, m, r] for l, m, r in zip(tabela_notas_float, medias, aprov_rep)] \n",
    "\n",
    "'''\n",
    "tabela_final = []\n",
    "for l, m, r in zip(tabela_notas_float, medias, aprov_rep):\n",
    "    l.append(m)\n",
    "    l.append(r)\n",
    "    tabela_final.append(l)\n",
    "'''\n",
    "\n",
    "arquivo.close()\n",
    "\n",
    "arquivo = open('notas_final.csv', 'w')\n",
    "\n",
    "escritor = csv.writer(arquivo, delimiter=';', lineterminator='\\n')\n",
    "\n",
    "escritor.writerows(tabela_final)\n",
    "\n",
    "arquivo.close()\n",
    "\n"
   ]
  },
  {
   "cell_type": "code",
   "execution_count": 178,
   "metadata": {},
   "outputs": [
    {
     "data": {
      "text/plain": [
       "<generator object my_enumerate at 0x000002A761FA45F0>"
      ]
     },
     "execution_count": 178,
     "metadata": {},
     "output_type": "execute_result"
    }
   ],
   "source": [
    "def my_enumerate(data, start=0):\n",
    "    index = start\n",
    "\n",
    "    for one_item in data:\n",
    "        yield (index, one_item)\n",
    "        index += 1\n",
    "    print(one_item)\n",
    "\n",
    "my_enumerate(('abc', [1,2,3], {'a':1, 'b':2}), start=0)"
   ]
  },
  {
   "cell_type": "code",
   "execution_count": 147,
   "metadata": {},
   "outputs": [
    {
     "name": "stdout",
     "output_type": "stream",
     "text": [
      "[[4.78, 3.81, 9.21, 4.53, 9.93], [3.71, 5.99, 2.74, 6.71, 5.93], [2.75, 3.92, 4.63, 5.05, 1.53], [3.69, 5.56, 9.94, 0.09, 4.16]]\n"
     ]
    }
   ],
   "source": [
    "import csv\n",
    "from random import random\n",
    "arquivo = open('notas.csv', 'w')\n",
    "alunos_notas = []\n",
    "for _ in range(4):\n",
    "    aluno_notas = [round(random()*10,2) for x in range(5)]\n",
    "    alunos_notas.append(aluno_notas)\n",
    "print(alunos_notas)\n",
    "escritor = csv.writer(arquivo, delimiter=';', lineterminator='\\n')\n",
    "escritor.writerows(alunos_notas)\n",
    "arquivo.close()"
   ]
  },
  {
   "cell_type": "code",
   "execution_count": null,
   "metadata": {},
   "outputs": [],
   "source": [
    "\n",
    "arquivo = open('alunos_notas.csv', 'r')\n",
    "planilha = list(csv.reader(arquivo, delimiter=';', lineterminator='\\n'))\n",
    "arquivo.close()\n",
    "\n",
    "nota_min = float(input('Digite a nota mínima para aprovação: '))\n",
    "\n",
    "\n",
    "for indice_1, lista in enumerate(planilha):\n",
    "    for indice_2, elemento in enumerate(lista):\n",
    "        if elemento.isdigit():\n",
    "            planilha[indice_1][indice_2] = int(planilha[indice_1][indice_2])\n",
    "\n",
    "for linha in planilha:\n",
    "    media = round(sum(linha[1:])/(len(linha) - 1), 2)\n",
    "    linha.append(media)\n",
    "    linha.append('APR' if media >= nota_min else 'REP')\n",
    "\n",
    "print(planilha)\n",
    "\n",
    "arquivo = open('alunos_aprovados.csv', 'w')\n",
    "\n",
    "\n",
    "escritor = csv.writer(arquivo, delimiter=',', lineterminator='\\n')\n",
    "\n",
    "escritor.writerows(planilha)\n",
    "\n",
    "arquivo.close()"
   ]
  },
  {
   "cell_type": "markdown",
   "metadata": {},
   "source": [
    "Enriqueça o exercício anterior lendo uma lista de nomes a partir de um arquivo, com os nomes separados por quebras de linha.\n",
    "\n",
    "Utilize compreensão de dicionários para associar cada aluno a sua lista de notas.\n",
    "\n",
    "Salve o resultado em um arquivo .json."
   ]
  },
  {
   "cell_type": "code",
   "execution_count": 191,
   "metadata": {},
   "outputs": [],
   "source": [
    "import csv\n",
    "import json\n",
    "\n",
    "\n",
    "with open('alunos.csv', 'r') as alunos:\n",
    "    nomes_csv = csv.reader(alunos, delimiter=';')\n",
    "    tabela_nomes = list(nomes_csv)[0]\n",
    "\n",
    "with open('notas_final.csv') as notas:\n",
    "    notas_csv = csv.reader(notas, delimiter=';')\n",
    "    tabela_notas = list(notas_csv)\n",
    "\n",
    "dict_notas_nomes = {nome: resultado for nome, resultado in zip(tabela_nomes, tabela_notas)}\n",
    "notas_nomes_json = json.dumps(dict_notas_nomes)\n",
    "with open('resultados_alunos.json', 'w') as resultados:\n",
    "    resultados.write(notas_nomes_json)"
   ]
  }
 ],
 "metadata": {
  "kernelspec": {
   "display_name": "Python 3.10.0 64-bit",
   "language": "python",
   "name": "python3"
  },
  "language_info": {
   "codemirror_mode": {
    "name": "ipython",
    "version": 3
   },
   "file_extension": ".py",
   "mimetype": "text/x-python",
   "name": "python",
   "nbconvert_exporter": "python",
   "pygments_lexer": "ipython3",
   "version": "3.10.0"
  },
  "orig_nbformat": 4,
  "vscode": {
   "interpreter": {
    "hash": "c45c58f68c098130c354f07f7255d63718cafbf3e85e5aa056c9bb1a234d8c46"
   }
  }
 },
 "nbformat": 4,
 "nbformat_minor": 2
}
