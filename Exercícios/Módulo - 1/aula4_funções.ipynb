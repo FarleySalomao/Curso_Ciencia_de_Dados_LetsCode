{
 "cells": [
  {
   "cell_type": "markdown",
   "metadata": {},
   "source": [
    "### Exercícios\n",
    "Funções"
   ]
  },
  {
   "cell_type": "markdown",
   "metadata": {},
   "source": [
    "1. Faça uma função que recebe um texto e um letra e retorne a quantidade daquela letra naquele texto (ignore diferenças de capitalização, 'A' e 'a' são a mesma letra)"
   ]
  },
  {
   "cell_type": "code",
   "execution_count": 5,
   "metadata": {},
   "outputs": [],
   "source": [
    "def conta_letra(palavra: str, letra: str) -> int :\n",
    "    palavra = palavra.lower()\n",
    "    letra = letra.lower()\n",
    "    contador = 0\n",
    "    for l in palavra:\n",
    "        if l == letra:\n",
    "            contador += 1\n",
    "    return contador"
   ]
  },
  {
   "cell_type": "markdown",
   "metadata": {},
   "source": [
    "2. Faça uma função que recebe um inteiro n e retorna uma lista com os n primeiros elementros da sequência de fibonacci"
   ]
  },
  {
   "cell_type": "code",
   "execution_count": 8,
   "metadata": {},
   "outputs": [],
   "source": [
    "def seq_fibonacci(n: int) -> list:\n",
    "    seq_fibonacci = [0, 1]\n",
    "    for i in range(2, n + 1):\n",
    "        n_fibonacci = seq_fibonacci[i - 1] + seq_fibonacci[i - 2]\n",
    "        seq_fibonacci.append(n_fibonacci)\n",
    "    return seq_fibonacci\n"
   ]
  },
  {
   "cell_type": "markdown",
   "metadata": {},
   "source": [
    "3. Faça uma função maxLista que faz a mesma coisa que a funcão _max_ faz ao receber uma lista"
   ]
  },
  {
   "cell_type": "code",
   "execution_count": 11,
   "metadata": {},
   "outputs": [],
   "source": [
    "def maxLista(lista: list[int]) -> int:\n",
    "    max = lista[0]\n",
    "    for i in lista:\n",
    "        if i > max:\n",
    "            max = i\n",
    "    return max"
   ]
  }
 ],
 "metadata": {
  "interpreter": {
   "hash": "c45c58f68c098130c354f07f7255d63718cafbf3e85e5aa056c9bb1a234d8c46"
  },
  "kernelspec": {
   "display_name": "Python 3.10.0 64-bit",
   "language": "python",
   "name": "python3"
  },
  "language_info": {
   "codemirror_mode": {
    "name": "ipython",
    "version": 3
   },
   "file_extension": ".py",
   "mimetype": "text/x-python",
   "name": "python",
   "nbconvert_exporter": "python",
   "pygments_lexer": "ipython3",
   "version": "3.10.0"
  },
  "orig_nbformat": 4
 },
 "nbformat": 4,
 "nbformat_minor": 2
}
