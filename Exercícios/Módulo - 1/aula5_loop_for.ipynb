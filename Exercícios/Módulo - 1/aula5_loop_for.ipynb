{
 "cells": [
  {
   "cell_type": "markdown",
   "metadata": {},
   "source": [
    "### Exercícios:\n",
    "For Loop"
   ]
  },
  {
   "cell_type": "markdown",
   "metadata": {},
   "source": [
    "1) Escreva um algoritmo que receba um número (inteiro e positivo) e calcule seu fatorial"
   ]
  },
  {
   "cell_type": "code",
   "execution_count": 2,
   "metadata": {},
   "outputs": [],
   "source": [
    "def calc_fatorial(n: int) -> int:\n",
    "    fatorial = 1\n",
    "    for i in range(1, n + 1):\n",
    "        fatorial *= i\n",
    "    return fatorial"
   ]
  },
  {
   "cell_type": "markdown",
   "metadata": {},
   "source": [
    "2) Escreva um algoritmo que receba um numero e inteiro < 11 e imprima sua tabuada "
   ]
  },
  {
   "cell_type": "code",
   "execution_count": 14,
   "metadata": {},
   "outputs": [],
   "source": [
    "def taboada_10(n: int) -> None:\n",
    "    for i in range(1, 11):\n",
    "        print(f'{n} x {i} = {n * i}')\n",
    "    return None"
   ]
  },
  {
   "cell_type": "markdown",
   "metadata": {},
   "source": [
    "3) Escreva um algoritmo que imprima o seguinte padrão:\n",
    "   \n",
    "<br>\n",
    "1 <br>\n",
    "1 2<br>\n",
    "1 2 3<br>\n",
    "1 2 3 4<br>\n",
    "1 2 3 4 5<br>\n",
    "...<br>"
   ]
  },
  {
   "cell_type": "code",
   "execution_count": 29,
   "metadata": {},
   "outputs": [],
   "source": [
    "def pilha_de_numeros(n: int) -> None:\n",
    "    for c in range(1, n + 1):\n",
    "        linha = ''\n",
    "        for l in range(1, c + 1):\n",
    "            linha += f'{str(l)} '\n",
    "        print(linha)\n",
    "    return None"
   ]
  }
 ],
 "metadata": {
  "interpreter": {
   "hash": "c45c58f68c098130c354f07f7255d63718cafbf3e85e5aa056c9bb1a234d8c46"
  },
  "kernelspec": {
   "display_name": "Python 3.10.0 64-bit",
   "language": "python",
   "name": "python3"
  },
  "language_info": {
   "codemirror_mode": {
    "name": "ipython",
    "version": 3
   },
   "file_extension": ".py",
   "mimetype": "text/x-python",
   "name": "python",
   "nbconvert_exporter": "python",
   "pygments_lexer": "ipython3",
   "version": "3.10.0"
  },
  "orig_nbformat": 4
 },
 "nbformat": 4,
 "nbformat_minor": 2
}
